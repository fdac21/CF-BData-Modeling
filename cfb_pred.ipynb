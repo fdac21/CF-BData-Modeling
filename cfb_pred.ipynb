{
 "cells": [
  {
   "cell_type": "code",
   "execution_count": 26,
   "id": "28cf0593-5cd1-48d8-bf2a-2379e04102b4",
   "metadata": {},
   "outputs": [],
   "source": [
    "from api_key import API_KEY\n",
    "import pandas as pd\n",
    "import numpy as np\n",
    "import requests\n",
    "import json\n",
    "import matplotlib.pyplot as plt\n",
    "from tqdm import tqdm as tqdm # this is optional but I like having status bars\n",
    "\n",
    "year = 2021\n",
    "seasonType = \"regular\"\n",
    "\n",
    "lines = pd.DataFrame()\n",
    "week = 5\n",
    "\n",
    "parameters = {\"year\":year, \"week\":week}\n",
    "response = requests.get(\"https://api.collegefootballdata.com/lines?year=2021&week=5&seasonType=regular\", headers={'Authorization': API_KEY})\n",
    "lineData = response.json()\n"
   ]
  },
  {
   "cell_type": "code",
   "execution_count": 27,
   "id": "c066d33b-a502-4d02-b3a8-ac72ce9774c6",
   "metadata": {},
   "outputs": [
    {
     "name": "stdout",
     "output_type": "stream",
     "text": [
      "{'id': 401309865, 'season': 2021, 'seasonType': 'regular', 'week': 5, 'homeTeam': 'Oregon State', 'homeConference': 'Pac-12', 'homeScore': 27, 'awayTeam': 'Washington', 'awayConference': 'Pac-12', 'awayScore': 24, 'lines': [{'provider': 'Bovada', 'spread': '-2.0', 'formattedSpread': 'Oregon State -2.0', 'spreadOpen': '3.0', 'overUnder': '57.5', 'overUnderOpen': '54.5', 'homeMoneyline': -130, 'awayMoneyline': 110}, {'provider': 'William Hill (New Jersey)', 'spread': '-2.5', 'formattedSpread': 'Oregon State -2.5', 'spreadOpen': None, 'overUnder': '58', 'overUnderOpen': None, 'homeMoneyline': None, 'awayMoneyline': None}, {'provider': 'consensus', 'spread': '-2.5', 'formattedSpread': 'Oregon State -2.5', 'spreadOpen': None, 'overUnder': '57.5', 'overUnderOpen': None, 'homeMoneyline': None, 'awayMoneyline': None}, {'provider': 'teamrankings', 'spread': '-2.5', 'formattedSpread': 'Oregon State -2.5', 'spreadOpen': None, 'overUnder': '57.5', 'overUnderOpen': None, 'homeMoneyline': None, 'awayMoneyline': None}]}\n"
     ]
    }
   ],
   "source": [
    "\n",
    "print(lineData[24])"
   ]
  },
  {
   "cell_type": "code",
   "execution_count": 75,
   "id": "38a84de7-cfd8-43e8-895f-46a1df1d8de4",
   "metadata": {},
   "outputs": [
    {
     "name": "stdout",
     "output_type": "stream",
     "text": [
      "Washington @ Oregon State spread change absolute value: 5.5\n",
      "Eastern Michigan @ Northern Illinois spread change absolute value: 3.5\n",
      "Army @ Ball State spread change absolute value: 3.0\n",
      "Mississippi State @ Texas A&M spread change absolute value: 2.5\n",
      "Michigan @ Wisconsin spread change absolute value: 2.5\n",
      "Louisiana @ South Alabama spread change absolute value: 2.0\n",
      "Virginia @ Miami spread change absolute value: 2.0\n",
      "Duke @ North Carolina spread change absolute value: 2.0\n",
      "Northwestern @ Nebraska spread change absolute value: 1.5\n",
      "Arkansas @ Georgia spread change absolute value: 1.5\n",
      "Indiana @ Penn State spread change absolute value: 1.5\n",
      "Old Dominion @ UTEP spread change absolute value: 1.5\n",
      "Southern Mississippi @ Rice spread change absolute value: 1.5\n",
      "Charlotte @ Illinois spread change absolute value: 1.5\n",
      "Arkansas State @ Georgia Southern spread change absolute value: 1.0\n",
      "Louisiana Monroe @ Coastal Carolina spread change absolute value: 1.0\n",
      "Kansas @ Iowa State spread change absolute value: 1.0\n",
      "Texas @ TCU spread change absolute value: 1.0\n",
      "South Florida @ SMU spread change absolute value: 1.0\n",
      "Western Michigan @ Buffalo spread change absolute value: 1.0\n",
      "Oregon @ Stanford spread change absolute value: 1.0\n",
      "Fresno State @ Hawai'i spread change absolute value: 1.0\n",
      "Houston @ Tulsa spread change absolute value: 1.0\n",
      "UNLV @ UT San Antonio spread change absolute value: 1.0\n",
      "Western Kentucky @ Michigan State spread change absolute value: 1.0\n",
      "Boston College @ Clemson spread change absolute value: 1.0\n",
      "Appalachian State @ Georgia State spread change absolute value: 0.5\n",
      "Ohio State @ Rutgers spread change absolute value: 0.5\n",
      "Toledo @ UMass spread change absolute value: 0.5\n",
      "Baylor @ Oklahoma State spread change absolute value: 0.5\n",
      "UCF @ Navy spread change absolute value: 0.5\n",
      "Tulane @ East Carolina spread change absolute value: 0.5\n",
      "Memphis @ Temple spread change absolute value: 0.5\n",
      "Ohio @ Akron spread change absolute value: 0.5\n",
      "Bowling Green @ Kent State spread change absolute value: 0.5\n",
      "Arizona State @ UCLA spread change absolute value: 0.5\n",
      "USC @ Colorado spread change absolute value: 0.5\n",
      "Florida @ Kentucky spread change absolute value: 0.5\n",
      "Troy @ South Carolina spread change absolute value: 0.5\n",
      "Connecticut @ Vanderbilt spread change absolute value: 0.5\n",
      "Cincinnati @ Notre Dame spread change absolute value: 0.5\n",
      "Iowa @ Maryland spread change absolute value: 0.5\n",
      "Minnesota @ Purdue spread change absolute value: 0.5\n",
      "Pittsburgh @ Georgia Tech spread change absolute value: 0.5\n",
      "Louisiana Tech @ NC State spread change absolute value: 0.5\n",
      "Oklahoma @ Kansas State spread change absolute value: 0.0\n",
      "Texas Tech @ West Virginia spread change absolute value: 0.0\n",
      "Central Michigan @ Miami (OH) spread change absolute value: 0.0\n",
      "Washington State @ California spread change absolute value: 0.0\n",
      "Air Force @ New Mexico spread change absolute value: 0.0\n",
      "Nevada @ Boise State spread change absolute value: 0.0\n",
      "New Mexico State @ San José State spread change absolute value: 0.0\n",
      "BYU @ Utah State spread change absolute value: 0.0\n",
      "Ole Miss @ Alabama spread change absolute value: 0.0\n",
      "Auburn @ LSU spread change absolute value: 0.0\n",
      "Tennessee @ Missouri spread change absolute value: 0.0\n",
      "Louisville @ Wake Forest spread change absolute value: 0.0\n",
      "Syracuse @ Florida State spread change absolute value: 0.0\n",
      "Florida International @ Florida Atlantic spread change absolute value: 0.0\n",
      "Marshall @ Middle Tennessee spread change absolute value: 0.0\n",
      "Liberty @ UAB spread change absolute value: 0.0\n"
     ]
    }
   ],
   "source": [
    "def getSpreadDiff(lineData):\n",
    "    spreadDiff = []\n",
    "    for i in range(len(lineData)):\n",
    "        diff = abs(float(lineData[i]['lines'][0]['spreadOpen']) - float(lineData[i]['lines'][0]['spread']))\n",
    "        tup = (i, diff)\n",
    "        spreadDiff.append(tup)\n",
    "    return spreadDiff\n",
    "\n",
    "def printSpreadDiff(lineData, spreadDiff):\n",
    "    spreadDiff = getSpreadDiff(lineData)\n",
    "    spreadDiff.sort(reverse=True, key=lambda a: a[1])\n",
    "    for i in range(len(spreadDiff)):\n",
    "        print(\"%s @ %s spread change absolute value: %.1f\" % (lineData[spreadDiff[i][0]]['awayTeam'], lineData[spreadDiff[i][0]]['homeTeam'], spreadDiff[i][1]))\n",
    "\n",
    "spreadDiff = getSpreadDiff(lineData)\n",
    "\n",
    "printSpreadDiff(lineData, spreadDiff)\n",
    "\n",
    "\n",
    "\n",
    "\n",
    "\n",
    "\n",
    "\n"
   ]
  },
  {
   "cell_type": "code",
   "execution_count": 70,
   "id": "0e586703-ed96-4719-a8b4-4d433b753350",
   "metadata": {},
   "outputs": [
    {
     "name": "stdout",
     "output_type": "stream",
     "text": [
      "{'id': 401309865, 'season': 2021, 'seasonType': 'regular', 'week': 5, 'homeTeam': 'Oregon State', 'homeConference': 'Pac-12', 'homeScore': None, 'awayTeam': 'Washington', 'awayConference': 'Pac-12', 'awayScore': None, 'lines': [{'provider': 'Bovada', 'spread': '-2.5', 'formattedSpread': 'Oregon State -2.5', 'spreadOpen': '3.0', 'overUnder': '57.5', 'overUnderOpen': '54.5', 'homeMoneyline': 130, 'awayMoneyline': -150}]}\n"
     ]
    }
   ],
   "source": [
    "print(lineData[24])"
   ]
  },
  {
   "cell_type": "code",
   "execution_count": null,
   "id": "18edd562-2bf9-4c24-9e45-d38aa281a909",
   "metadata": {},
   "outputs": [],
   "source": []
  },
  {
   "cell_type": "code",
   "execution_count": null,
   "id": "a70cd61d-4307-4a36-8e2f-a213f94dacd2",
   "metadata": {},
   "outputs": [],
   "source": []
  },
  {
   "cell_type": "code",
   "execution_count": null,
   "id": "b8681727-4a46-4c98-9b86-5209cbb36802",
   "metadata": {},
   "outputs": [],
   "source": []
  }
 ],
 "metadata": {
  "kernelspec": {
   "display_name": "Python 3 (ipykernel)",
   "language": "python",
   "name": "python3"
  },
  "language_info": {
   "codemirror_mode": {
    "name": "ipython",
    "version": 3
   },
   "file_extension": ".py",
   "mimetype": "text/x-python",
   "name": "python",
   "nbconvert_exporter": "python",
   "pygments_lexer": "ipython3",
   "version": "3.8.10"
  }
 },
 "nbformat": 4,
 "nbformat_minor": 5
}
