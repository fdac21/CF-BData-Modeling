{
 "cells": [
  {
   "cell_type": "code",
   "execution_count": 4,
   "metadata": {},
   "outputs": [],
   "source": [
    "import cfbd\n",
    "import numpy as np\n",
    "import pandas as pd\n",
    "import openpyxl\n",
    "\n",
    "from api_key import API_KEY\n",
    "from fastai.tabular import *\n",
    "from fastai.tabular.all import *\n",
    "\n",
    "configuration = cfbd.Configuration()\n",
    "configuration.api_key['Authorization'] = API_KEY\n",
    "\n",
    "api_config = cfbd.ApiClient(configuration)\n",
    "\n",
    "teams_api = cfbd.TeamsApi(api_config)\n",
    "ratings_api = cfbd.RatingsApi(api_config)\n",
    "games_api = cfbd.GamesApi(api_config)\n",
    "stats_api = cfbd.StatsApi(api_config)\n",
    "betting_api = cfbd.BettingApi(api_config)\n",
    "\n",
    "games = []\n",
    "lines = []\n",
    "\n",
    "for year in range(2015, 2022):\n",
    "    response = games_api.get_games(year=year)\n",
    "    games = [*games, *response]\n",
    "\n",
    "    response = betting_api.get_lines(year=year)\n",
    "    lines = [*lines, *response]\n",
    "\n",
    "games = [g for g in games if g.home_conference is not None and g.away_conference is not None and g.home_points is not None and g.away_points is not None]"
   ]
  },
  {
   "cell_type": "code",
   "execution_count": 5,
   "metadata": {},
   "outputs": [],
   "source": [
    "games = [\n",
    "    dict(\n",
    "        id = g.id,\n",
    "        year = g.season,\n",
    "        week = g.week,\n",
    "        neutral_site = g.neutral_site,\n",
    "        home_team = g.home_team,\n",
    "        home_conference = g.home_conference,\n",
    "        home_points = g.home_points,\n",
    "        home_elo = g.home_pregame_elo,\n",
    "        away_team = g.away_team,\n",
    "        away_conference = g.away_conference,\n",
    "        away_points = g.away_points,\n",
    "        away_elo = g.away_pregame_elo\n",
    "    ) for g in games]\n"
   ]
  },
  {
   "cell_type": "code",
   "execution_count": 6,
   "metadata": {},
   "outputs": [],
   "source": [
    "for game in games:\n",
    "    game_lines = [l for l in lines if l.id == game['id']]\n",
    "\n",
    "    if len(game_lines) > 0:\n",
    "        game_line = [l for l in game_lines[0].lines if l['provider'] == 'Bovada']\n",
    "\n",
    "        if len(game_line) > 0 and game_line[0]['spread'] is not None:\n",
    "            game['spread'] = float(game_line[0]['spread'])\n",
    "        if len(game_line) > 0 and game_line[0]['overUnder'] is not None:\n",
    "            game['overUnder'] = float(game_line[0]['overUnder'])"
   ]
  },
  {
   "cell_type": "code",
   "execution_count": 7,
   "metadata": {},
   "outputs": [
    {
     "data": {
      "text/plain": [
       "1456"
      ]
     },
     "execution_count": 7,
     "metadata": {},
     "output_type": "execute_result"
    }
   ],
   "source": [
    "games = [g for g in games if 'spread' in g and g['spread'] is not None]\n",
    "games = [g for g in games if 'overUnder' in g and g['overUnder'] is not None]\n",
    "\n",
    "len(games)"
   ]
  },
  {
   "cell_type": "code",
   "execution_count": 8,
   "metadata": {},
   "outputs": [],
   "source": [
    "for game in games:\n",
    "    game['margin'] = game['away_points'] - game['home_points']\n",
    "    game['total'] = game['away_points'] + game['home_points']"
   ]
  },
  {
   "cell_type": "code",
   "execution_count": 9,
   "metadata": {},
   "outputs": [
    {
     "data": {
      "text/html": [
       "<div>\n",
       "<style scoped>\n",
       "    .dataframe tbody tr th:only-of-type {\n",
       "        vertical-align: middle;\n",
       "    }\n",
       "\n",
       "    .dataframe tbody tr th {\n",
       "        vertical-align: top;\n",
       "    }\n",
       "\n",
       "    .dataframe thead th {\n",
       "        text-align: right;\n",
       "    }\n",
       "</style>\n",
       "<table border=\"1\" class=\"dataframe\">\n",
       "  <thead>\n",
       "    <tr style=\"text-align: right;\">\n",
       "      <th></th>\n",
       "      <th>id</th>\n",
       "      <th>year</th>\n",
       "      <th>week</th>\n",
       "      <th>neutral_site</th>\n",
       "      <th>home_team</th>\n",
       "      <th>home_conference</th>\n",
       "      <th>home_points</th>\n",
       "      <th>home_elo</th>\n",
       "      <th>away_team</th>\n",
       "      <th>away_conference</th>\n",
       "      <th>away_points</th>\n",
       "      <th>away_elo</th>\n",
       "      <th>spread</th>\n",
       "      <th>overUnder</th>\n",
       "      <th>margin</th>\n",
       "      <th>total</th>\n",
       "    </tr>\n",
       "  </thead>\n",
       "  <tbody>\n",
       "    <tr>\n",
       "      <th>0</th>\n",
       "      <td>401121960</td>\n",
       "      <td>2019</td>\n",
       "      <td>10</td>\n",
       "      <td>False</td>\n",
       "      <td>Appalachian State</td>\n",
       "      <td>Sun Belt</td>\n",
       "      <td>21</td>\n",
       "      <td>1770</td>\n",
       "      <td>Georgia Southern</td>\n",
       "      <td>Sun Belt</td>\n",
       "      <td>24</td>\n",
       "      <td>1396</td>\n",
       "      <td>-14.0</td>\n",
       "      <td>41.5</td>\n",
       "      <td>3</td>\n",
       "      <td>45</td>\n",
       "    </tr>\n",
       "    <tr>\n",
       "      <th>1</th>\n",
       "      <td>401112080</td>\n",
       "      <td>2019</td>\n",
       "      <td>10</td>\n",
       "      <td>False</td>\n",
       "      <td>Baylor</td>\n",
       "      <td>Big 12</td>\n",
       "      <td>17</td>\n",
       "      <td>1665</td>\n",
       "      <td>West Virginia</td>\n",
       "      <td>Big 12</td>\n",
       "      <td>14</td>\n",
       "      <td>1530</td>\n",
       "      <td>-18.0</td>\n",
       "      <td>57.0</td>\n",
       "      <td>-3</td>\n",
       "      <td>31</td>\n",
       "    </tr>\n",
       "    <tr>\n",
       "      <th>2</th>\n",
       "      <td>401117894</td>\n",
       "      <td>2019</td>\n",
       "      <td>10</td>\n",
       "      <td>False</td>\n",
       "      <td>Connecticut</td>\n",
       "      <td>American Athletic</td>\n",
       "      <td>10</td>\n",
       "      <td>996</td>\n",
       "      <td>Navy</td>\n",
       "      <td>American Athletic</td>\n",
       "      <td>56</td>\n",
       "      <td>1599</td>\n",
       "      <td>26.5</td>\n",
       "      <td>55.0</td>\n",
       "      <td>46</td>\n",
       "      <td>66</td>\n",
       "    </tr>\n",
       "    <tr>\n",
       "      <th>3</th>\n",
       "      <td>401112495</td>\n",
       "      <td>2019</td>\n",
       "      <td>10</td>\n",
       "      <td>False</td>\n",
       "      <td>Syracuse</td>\n",
       "      <td>ACC</td>\n",
       "      <td>27</td>\n",
       "      <td>1458</td>\n",
       "      <td>Boston College</td>\n",
       "      <td>ACC</td>\n",
       "      <td>58</td>\n",
       "      <td>1489</td>\n",
       "      <td>-3.0</td>\n",
       "      <td>59.0</td>\n",
       "      <td>31</td>\n",
       "      <td>85</td>\n",
       "    </tr>\n",
       "    <tr>\n",
       "      <th>4</th>\n",
       "      <td>401114352</td>\n",
       "      <td>2019</td>\n",
       "      <td>10</td>\n",
       "      <td>False</td>\n",
       "      <td>UMass</td>\n",
       "      <td>FBS Independents</td>\n",
       "      <td>21</td>\n",
       "      <td>832</td>\n",
       "      <td>Liberty</td>\n",
       "      <td>FBS Independents</td>\n",
       "      <td>63</td>\n",
       "      <td>1264</td>\n",
       "      <td>24.0</td>\n",
       "      <td>72.0</td>\n",
       "      <td>42</td>\n",
       "      <td>84</td>\n",
       "    </tr>\n",
       "  </tbody>\n",
       "</table>\n",
       "</div>"
      ],
      "text/plain": [
       "          id  year  week  neutral_site          home_team    home_conference  \\\n",
       "0  401121960  2019    10         False  Appalachian State           Sun Belt   \n",
       "1  401112080  2019    10         False             Baylor             Big 12   \n",
       "2  401117894  2019    10         False        Connecticut  American Athletic   \n",
       "3  401112495  2019    10         False           Syracuse                ACC   \n",
       "4  401114352  2019    10         False              UMass   FBS Independents   \n",
       "\n",
       "   home_points  home_elo         away_team    away_conference  away_points  \\\n",
       "0           21      1770  Georgia Southern           Sun Belt           24   \n",
       "1           17      1665     West Virginia             Big 12           14   \n",
       "2           10       996              Navy  American Athletic           56   \n",
       "3           27      1458    Boston College                ACC           58   \n",
       "4           21       832           Liberty   FBS Independents           63   \n",
       "\n",
       "   away_elo  spread  overUnder  margin  total  \n",
       "0      1396   -14.0       41.5       3     45  \n",
       "1      1530   -18.0       57.0      -3     31  \n",
       "2      1599    26.5       55.0      46     66  \n",
       "3      1489    -3.0       59.0      31     85  \n",
       "4      1264    24.0       72.0      42     84  "
      ]
     },
     "execution_count": 9,
     "metadata": {},
     "output_type": "execute_result"
    }
   ],
   "source": [
    "df = pd.DataFrame.from_records(games).dropna()\n",
    "df.head()"
   ]
  },
  {
   "cell_type": "code",
   "execution_count": 10,
   "metadata": {},
   "outputs": [],
   "source": [
    "test_df = df.query(\"year == 2021\")\n",
    "train_df = df.query(\"year != 2021\")"
   ]
  },
  {
   "cell_type": "code",
   "execution_count": 11,
   "metadata": {},
   "outputs": [
    {
     "data": {
      "text/plain": [
       "['home_elo', 'away_elo', 'spread', 'overUnder']"
      ]
     },
     "execution_count": 11,
     "metadata": {},
     "output_type": "execute_result"
    }
   ],
   "source": [
    "excluded = ['id','year','week','home_team','away_team','margin', 'total', 'home_points', 'away_points']\n",
    "cat_features = ['home_conference','away_conference','neutral_site']\n",
    "cont_features = [c for c in df.columns.to_list() if c not in cat_features and c not in excluded]\n",
    "\n",
    "cont_features"
   ]
  },
  {
   "cell_type": "code",
   "execution_count": 12,
   "metadata": {},
   "outputs": [
    {
     "data": {
      "text/plain": [
       "((#580) [182,519,12,144,209,642,3,605,84,530...],\n",
       " (#145) [661,202,456,659,105,364,496,259,305,648...])"
      ]
     },
     "execution_count": 12,
     "metadata": {},
     "output_type": "execute_result"
    }
   ],
   "source": [
    "splits = RandomSplitter(valid_pct=0.2)(range_of(train_df))\n",
    "splits"
   ]
  },
  {
   "cell_type": "code",
   "execution_count": 13,
   "metadata": {},
   "outputs": [],
   "source": [
    "to = TabularPandas(train_df, procs=[Categorify, Normalize],\n",
    "                    y_names={\"margin\", \"total\"},\n",
    "                    cat_names = cat_features,\n",
    "                    cont_names = cont_features,\n",
    "                   splits=splits)"
   ]
  },
  {
   "cell_type": "code",
   "execution_count": 14,
   "metadata": {},
   "outputs": [
    {
     "data": {
      "text/html": [
       "<table border=\"1\" class=\"dataframe\">\n",
       "  <thead>\n",
       "    <tr style=\"text-align: right;\">\n",
       "      <th></th>\n",
       "      <th>home_conference</th>\n",
       "      <th>away_conference</th>\n",
       "      <th>neutral_site</th>\n",
       "      <th>home_elo</th>\n",
       "      <th>away_elo</th>\n",
       "      <th>spread</th>\n",
       "      <th>overUnder</th>\n",
       "      <th>margin</th>\n",
       "      <th>total</th>\n",
       "    </tr>\n",
       "  </thead>\n",
       "  <tbody>\n",
       "    <tr>\n",
       "      <th>0</th>\n",
       "      <td>Big 12</td>\n",
       "      <td>Big 12</td>\n",
       "      <td>False</td>\n",
       "      <td>1594.000002</td>\n",
       "      <td>1448.000000</td>\n",
       "      <td>-9.5</td>\n",
       "      <td>61.500000</td>\n",
       "      <td>-16.0</td>\n",
       "      <td>52.0</td>\n",
       "    </tr>\n",
       "    <tr>\n",
       "      <th>1</th>\n",
       "      <td>ACC</td>\n",
       "      <td>ACC</td>\n",
       "      <td>False</td>\n",
       "      <td>2194.000007</td>\n",
       "      <td>1369.999998</td>\n",
       "      <td>-48.0</td>\n",
       "      <td>64.000000</td>\n",
       "      <td>-26.0</td>\n",
       "      <td>68.0</td>\n",
       "    </tr>\n",
       "    <tr>\n",
       "      <th>2</th>\n",
       "      <td>American Athletic</td>\n",
       "      <td>American Athletic</td>\n",
       "      <td>False</td>\n",
       "      <td>1608.000002</td>\n",
       "      <td>1703.000001</td>\n",
       "      <td>-2.5</td>\n",
       "      <td>75.000000</td>\n",
       "      <td>-3.0</td>\n",
       "      <td>57.0</td>\n",
       "    </tr>\n",
       "    <tr>\n",
       "      <th>3</th>\n",
       "      <td>Sun Belt</td>\n",
       "      <td>Sun Belt</td>\n",
       "      <td>False</td>\n",
       "      <td>1627.000002</td>\n",
       "      <td>1526.000000</td>\n",
       "      <td>-12.5</td>\n",
       "      <td>73.999999</td>\n",
       "      <td>-50.0</td>\n",
       "      <td>56.0</td>\n",
       "    </tr>\n",
       "    <tr>\n",
       "      <th>4</th>\n",
       "      <td>Sun Belt</td>\n",
       "      <td>Conference USA</td>\n",
       "      <td>False</td>\n",
       "      <td>1205.999994</td>\n",
       "      <td>1222.000004</td>\n",
       "      <td>-6.0</td>\n",
       "      <td>56.500000</td>\n",
       "      <td>3.0</td>\n",
       "      <td>99.0</td>\n",
       "    </tr>\n",
       "    <tr>\n",
       "      <th>5</th>\n",
       "      <td>Mountain West</td>\n",
       "      <td>Mountain West</td>\n",
       "      <td>False</td>\n",
       "      <td>1616.000002</td>\n",
       "      <td>1346.000001</td>\n",
       "      <td>-7.5</td>\n",
       "      <td>45.500000</td>\n",
       "      <td>-12.0</td>\n",
       "      <td>46.0</td>\n",
       "    </tr>\n",
       "    <tr>\n",
       "      <th>6</th>\n",
       "      <td>Big 12</td>\n",
       "      <td>Big 12</td>\n",
       "      <td>False</td>\n",
       "      <td>1665.000001</td>\n",
       "      <td>1530.000001</td>\n",
       "      <td>-18.0</td>\n",
       "      <td>57.000000</td>\n",
       "      <td>-3.0</td>\n",
       "      <td>31.0</td>\n",
       "    </tr>\n",
       "    <tr>\n",
       "      <th>7</th>\n",
       "      <td>Conference USA</td>\n",
       "      <td>Conference USA</td>\n",
       "      <td>False</td>\n",
       "      <td>1417.999998</td>\n",
       "      <td>1619.999999</td>\n",
       "      <td>-6.5</td>\n",
       "      <td>54.500000</td>\n",
       "      <td>-21.0</td>\n",
       "      <td>41.0</td>\n",
       "    </tr>\n",
       "    <tr>\n",
       "      <th>8</th>\n",
       "      <td>Pac-12</td>\n",
       "      <td>Pac-12</td>\n",
       "      <td>False</td>\n",
       "      <td>1482.000001</td>\n",
       "      <td>1388.000000</td>\n",
       "      <td>-10.0</td>\n",
       "      <td>70.000000</td>\n",
       "      <td>-17.0</td>\n",
       "      <td>37.0</td>\n",
       "    </tr>\n",
       "    <tr>\n",
       "      <th>9</th>\n",
       "      <td>ACC</td>\n",
       "      <td>ACC</td>\n",
       "      <td>False</td>\n",
       "      <td>1644.000002</td>\n",
       "      <td>1659.000004</td>\n",
       "      <td>-2.0</td>\n",
       "      <td>67.500000</td>\n",
       "      <td>1.0</td>\n",
       "      <td>49.0</td>\n",
       "    </tr>\n",
       "  </tbody>\n",
       "</table>"
      ],
      "text/plain": [
       "<IPython.core.display.HTML object>"
      ]
     },
     "metadata": {},
     "output_type": "display_data"
    }
   ],
   "source": [
    "dls = to.dataloaders(bs=64)\n",
    "dls.show_batch()"
   ]
  },
  {
   "cell_type": "code",
   "execution_count": 15,
   "metadata": {},
   "outputs": [],
   "source": [
    "learn = tabular_learner(dls, metrics=mae, lr=10e-1)"
   ]
  },
  {
   "cell_type": "code",
   "execution_count": 16,
   "metadata": {},
   "outputs": [
    {
     "data": {
      "text/html": [],
      "text/plain": [
       "<IPython.core.display.HTML object>"
      ]
     },
     "metadata": {},
     "output_type": "display_data"
    },
    {
     "data": {
      "text/plain": [
       "SuggestedLRs(valley=0.019054606556892395)"
      ]
     },
     "execution_count": 16,
     "metadata": {},
     "output_type": "execute_result"
    },
    {
     "data": {
      "image/png": "[encoded data removed]",
      "text/plain": [
       "<Figure size 432x288 with 1 Axes>"
      ]
     },
     "metadata": {
      "needs_background": "light"
     },
     "output_type": "display_data"
    }
   ],
   "source": [
    "learn.lr_find()"
   ]
  },
  {
   "cell_type": "code",
   "execution_count": 17,
   "metadata": {},
   "outputs": [
    {
     "data": {
      "text/html": [
       "<table border=\"1\" class=\"dataframe\">\n",
       "  <thead>\n",
       "    <tr style=\"text-align: left;\">\n",
       "      <th>epoch</th>\n",
       "      <th>train_loss</th>\n",
       "      <th>valid_loss</th>\n",
       "      <th>mae</th>\n",
       "      <th>time</th>\n",
       "    </tr>\n",
       "  </thead>\n",
       "  <tbody>\n",
       "    <tr>\n",
       "      <td>0</td>\n",
       "      <td>1334.212402</td>\n",
       "      <td>346.128021</td>\n",
       "      <td>15.205886</td>\n",
       "      <td>00:02</td>\n",
       "    </tr>\n",
       "    <tr>\n",
       "      <td>1</td>\n",
       "      <td>830.261353</td>\n",
       "      <td>498.369720</td>\n",
       "      <td>17.823296</td>\n",
       "      <td>00:01</td>\n",
       "    </tr>\n",
       "    <tr>\n",
       "      <td>2</td>\n",
       "      <td>637.397217</td>\n",
       "      <td>298.062347</td>\n",
       "      <td>13.781591</td>\n",
       "      <td>00:01</td>\n",
       "    </tr>\n",
       "    <tr>\n",
       "      <td>3</td>\n",
       "      <td>521.908997</td>\n",
       "      <td>293.899200</td>\n",
       "      <td>13.674091</td>\n",
       "      <td>00:01</td>\n",
       "    </tr>\n",
       "    <tr>\n",
       "      <td>4</td>\n",
       "      <td>455.512543</td>\n",
       "      <td>268.573547</td>\n",
       "      <td>12.948856</td>\n",
       "      <td>00:01</td>\n",
       "    </tr>\n",
       "    <tr>\n",
       "      <td>5</td>\n",
       "      <td>405.585236</td>\n",
       "      <td>295.363525</td>\n",
       "      <td>13.497483</td>\n",
       "      <td>00:01</td>\n",
       "    </tr>\n",
       "    <tr>\n",
       "      <td>6</td>\n",
       "      <td>370.583405</td>\n",
       "      <td>278.095886</td>\n",
       "      <td>13.162575</td>\n",
       "      <td>00:01</td>\n",
       "    </tr>\n",
       "    <tr>\n",
       "      <td>7</td>\n",
       "      <td>345.050079</td>\n",
       "      <td>298.170563</td>\n",
       "      <td>13.730032</td>\n",
       "      <td>00:01</td>\n",
       "    </tr>\n",
       "    <tr>\n",
       "      <td>8</td>\n",
       "      <td>326.684998</td>\n",
       "      <td>286.501526</td>\n",
       "      <td>13.311981</td>\n",
       "      <td>00:01</td>\n",
       "    </tr>\n",
       "    <tr>\n",
       "      <td>9</td>\n",
       "      <td>311.137878</td>\n",
       "      <td>302.929138</td>\n",
       "      <td>13.683119</td>\n",
       "      <td>00:01</td>\n",
       "    </tr>\n",
       "  </tbody>\n",
       "</table>"
      ],
      "text/plain": [
       "<IPython.core.display.HTML object>"
      ]
     },
     "metadata": {},
     "output_type": "display_data"
    }
   ],
   "source": [
    "learn = tabular_learner(dls, metrics=mae, lr=10e-2)\n",
    "learn.fit(10)"
   ]
  },
  {
   "cell_type": "code",
   "execution_count": 18,
   "metadata": {},
   "outputs": [
    {
     "data": {
      "text/html": [
       "<table border=\"1\" class=\"dataframe\">\n",
       "  <thead>\n",
       "    <tr style=\"text-align: left;\">\n",
       "      <th>epoch</th>\n",
       "      <th>train_loss</th>\n",
       "      <th>valid_loss</th>\n",
       "      <th>mae</th>\n",
       "      <th>time</th>\n",
       "    </tr>\n",
       "  </thead>\n",
       "  <tbody>\n",
       "    <tr>\n",
       "      <td>0</td>\n",
       "      <td>1330.504150</td>\n",
       "      <td>650.641113</td>\n",
       "      <td>20.214592</td>\n",
       "      <td>00:01</td>\n",
       "    </tr>\n",
       "    <tr>\n",
       "      <td>1</td>\n",
       "      <td>838.356628</td>\n",
       "      <td>405.833984</td>\n",
       "      <td>16.252869</td>\n",
       "      <td>00:01</td>\n",
       "    </tr>\n",
       "    <tr>\n",
       "      <td>2</td>\n",
       "      <td>652.263306</td>\n",
       "      <td>365.685669</td>\n",
       "      <td>15.257465</td>\n",
       "      <td>00:01</td>\n",
       "    </tr>\n",
       "    <tr>\n",
       "      <td>3</td>\n",
       "      <td>535.294250</td>\n",
       "      <td>319.410675</td>\n",
       "      <td>14.338691</td>\n",
       "      <td>00:01</td>\n",
       "    </tr>\n",
       "    <tr>\n",
       "      <td>4</td>\n",
       "      <td>464.483429</td>\n",
       "      <td>278.500702</td>\n",
       "      <td>13.366396</td>\n",
       "      <td>00:01</td>\n",
       "    </tr>\n",
       "  </tbody>\n",
       "</table>"
      ],
      "text/plain": [
       "<IPython.core.display.HTML object>"
      ]
     },
     "metadata": {},
     "output_type": "display_data"
    }
   ],
   "source": [
    "learn = tabular_learner(dls, metrics=mae, lr=10e-2)\n",
    "learn.fit(5)"
   ]
  },
  {
   "cell_type": "code",
   "execution_count": 19,
   "metadata": {},
   "outputs": [
    {
     "data": {
      "text/html": [],
      "text/plain": [
       "<IPython.core.display.HTML object>"
      ]
     },
     "metadata": {},
     "output_type": "display_data"
    },
    {
     "data": {
      "text/html": [
       "<table border=\"1\" class=\"dataframe\">\n",
       "  <thead>\n",
       "    <tr style=\"text-align: right;\">\n",
       "      <th></th>\n",
       "      <th>home_conference</th>\n",
       "      <th>away_conference</th>\n",
       "      <th>neutral_site</th>\n",
       "      <th>home_elo</th>\n",
       "      <th>away_elo</th>\n",
       "      <th>spread</th>\n",
       "      <th>overUnder</th>\n",
       "      <th>margin</th>\n",
       "      <th>total</th>\n",
       "      <th>margin_pred</th>\n",
       "      <th>total_pred</th>\n",
       "    </tr>\n",
       "  </thead>\n",
       "  <tbody>\n",
       "    <tr>\n",
       "      <th>0</th>\n",
       "      <td>8.0</td>\n",
       "      <td>8.0</td>\n",
       "      <td>1.0</td>\n",
       "      <td>-1.288405</td>\n",
       "      <td>-0.400592</td>\n",
       "      <td>1.458716</td>\n",
       "      <td>0.742599</td>\n",
       "      <td>7.0</td>\n",
       "      <td>47.0</td>\n",
       "      <td>14.673101</td>\n",
       "      <td>54.754311</td>\n",
       "    </tr>\n",
       "    <tr>\n",
       "      <th>1</th>\n",
       "      <td>4.0</td>\n",
       "      <td>4.0</td>\n",
       "      <td>1.0</td>\n",
       "      <td>1.687850</td>\n",
       "      <td>-0.115392</td>\n",
       "      <td>-0.676903</td>\n",
       "      <td>-0.418008</td>\n",
       "      <td>-6.0</td>\n",
       "      <td>46.0</td>\n",
       "      <td>-13.889623</td>\n",
       "      <td>52.250050</td>\n",
       "    </tr>\n",
       "    <tr>\n",
       "      <th>2</th>\n",
       "      <td>9.0</td>\n",
       "      <td>9.0</td>\n",
       "      <td>1.0</td>\n",
       "      <td>-0.893217</td>\n",
       "      <td>1.162307</td>\n",
       "      <td>1.003584</td>\n",
       "      <td>0.986937</td>\n",
       "      <td>12.0</td>\n",
       "      <td>26.0</td>\n",
       "      <td>13.237213</td>\n",
       "      <td>65.271469</td>\n",
       "    </tr>\n",
       "    <tr>\n",
       "      <th>3</th>\n",
       "      <td>1.0</td>\n",
       "      <td>1.0</td>\n",
       "      <td>1.0</td>\n",
       "      <td>0.345860</td>\n",
       "      <td>-0.514672</td>\n",
       "      <td>-0.046720</td>\n",
       "      <td>-1.334277</td>\n",
       "      <td>-18.0</td>\n",
       "      <td>58.0</td>\n",
       "      <td>-9.823806</td>\n",
       "      <td>54.426327</td>\n",
       "    </tr>\n",
       "    <tr>\n",
       "      <th>4</th>\n",
       "      <td>6.0</td>\n",
       "      <td>6.0</td>\n",
       "      <td>1.0</td>\n",
       "      <td>-2.848572</td>\n",
       "      <td>-0.917756</td>\n",
       "      <td>1.913847</td>\n",
       "      <td>1.903206</td>\n",
       "      <td>42.0</td>\n",
       "      <td>84.0</td>\n",
       "      <td>17.629402</td>\n",
       "      <td>82.850327</td>\n",
       "    </tr>\n",
       "    <tr>\n",
       "      <th>5</th>\n",
       "      <td>2.0</td>\n",
       "      <td>2.0</td>\n",
       "      <td>1.0</td>\n",
       "      <td>-1.090811</td>\n",
       "      <td>0.451207</td>\n",
       "      <td>0.583462</td>\n",
       "      <td>0.498261</td>\n",
       "      <td>17.0</td>\n",
       "      <td>59.0</td>\n",
       "      <td>6.172044</td>\n",
       "      <td>56.941189</td>\n",
       "    </tr>\n",
       "    <tr>\n",
       "      <th>6</th>\n",
       "      <td>1.0</td>\n",
       "      <td>1.0</td>\n",
       "      <td>1.0</td>\n",
       "      <td>0.403491</td>\n",
       "      <td>-0.594529</td>\n",
       "      <td>-0.186761</td>\n",
       "      <td>0.009584</td>\n",
       "      <td>-21.0</td>\n",
       "      <td>69.0</td>\n",
       "      <td>-12.299972</td>\n",
       "      <td>59.828377</td>\n",
       "    </tr>\n",
       "    <tr>\n",
       "      <th>7</th>\n",
       "      <td>8.0</td>\n",
       "      <td>8.0</td>\n",
       "      <td>1.0</td>\n",
       "      <td>-1.185491</td>\n",
       "      <td>-1.221970</td>\n",
       "      <td>0.653482</td>\n",
       "      <td>-0.906685</td>\n",
       "      <td>-14.0</td>\n",
       "      <td>68.0</td>\n",
       "      <td>2.702043</td>\n",
       "      <td>46.874317</td>\n",
       "    </tr>\n",
       "    <tr>\n",
       "      <th>8</th>\n",
       "      <td>11.0</td>\n",
       "      <td>5.0</td>\n",
       "      <td>1.0</td>\n",
       "      <td>-0.246921</td>\n",
       "      <td>0.561485</td>\n",
       "      <td>0.408411</td>\n",
       "      <td>-1.945122</td>\n",
       "      <td>-17.0</td>\n",
       "      <td>23.0</td>\n",
       "      <td>-0.050400</td>\n",
       "      <td>42.761093</td>\n",
       "    </tr>\n",
       "  </tbody>\n",
       "</table>"
      ],
      "text/plain": [
       "<IPython.core.display.HTML object>"
      ]
     },
     "metadata": {},
     "output_type": "display_data"
    }
   ],
   "source": [
    "learn.show_results()"
   ]
  },
  {
   "cell_type": "code",
   "execution_count": 55,
   "metadata": {},
   "outputs": [
    {
     "data": {
      "text/html": [],
      "text/plain": [
       "<IPython.core.display.HTML object>"
      ]
     },
     "metadata": {},
     "output_type": "display_data"
    }
   ],
   "source": [
    "pdf = test_df.copy()\n",
    "dl = learn.dls.test_dl(pdf)\n",
    "pdf = learn.get_preds(dl=dl)[0].numpy()\n",
    "#pdf.head()"
   ]
  },
  {
   "cell_type": "code",
   "execution_count": 62,
   "metadata": {
    "scrolled": false
   },
   "outputs": [],
   "source": [
    "pd.set_option('display.max_rows', None)\n",
    "pd.set_option('display.max_columns', None) \n",
    "np.set_printoptions(formatter={'float_kind':'{:f}'.format})\n",
    "#np.set_printoptions(threshold=sys.maxsize)\n",
    "pred = pd.DataFrame(pdf)\n",
    "pred.to_excel(\"pred.xlsx\")"
   ]
  },
  {
   "cell_type": "code",
   "execution_count": 60,
   "metadata": {},
   "outputs": [
    {
     "ename": "AttributeError",
     "evalue": "'numpy.ndarray' object has no attribute 'to_excel'",
     "output_type": "error",
     "traceback": [
      "\u001b[0;31m---------------------------------------------------------------------------\u001b[0m",
      "\u001b[0;31mAttributeError\u001b[0m                            Traceback (most recent call last)",
      "\u001b[0;32m/tmp/ipykernel_34953/3368968740.py\u001b[0m in \u001b[0;36m<module>\u001b[0;34m\u001b[0m\n\u001b[1;32m      1\u001b[0m \u001b[0;32mimport\u001b[0m \u001b[0mopenpyxl\u001b[0m\u001b[0;34m\u001b[0m\u001b[0;34m\u001b[0m\u001b[0m\n\u001b[0;32m----> 2\u001b[0;31m \u001b[0mpdf\u001b[0m\u001b[0;34m.\u001b[0m\u001b[0mto_excel\u001b[0m\u001b[0;34m(\u001b[0m\u001b[0;34m\"output.xlsx\"\u001b[0m\u001b[0;34m)\u001b[0m\u001b[0;34m\u001b[0m\u001b[0;34m\u001b[0m\u001b[0m\n\u001b[0m",
      "\u001b[0;31mAttributeError\u001b[0m: 'numpy.ndarray' object has no attribute 'to_excel'"
     ]
    }
   ],
   "source": [
    "import openpyxl\n",
    "pdf.to_excel(\"output.xlsx\")"
   ]
  },
  {
   "cell_type": "code",
   "execution_count": 63,
   "metadata": {},
   "outputs": [],
   "source": [
    "learn.export('cfbd_neural_net')"
   ]
  },
  {
   "cell_type": "code",
   "execution_count": null,
   "metadata": {},
   "outputs": [],
   "source": [
    "learn = load_learner('cfbd_neural_net')"
   ]
  }
 ],
 "metadata": {
  "interpreter": {
   "hash": "916dbcbb3f70747c44a77c7bcd40155683ae19c65e1c03b4aa3499c5328201f1"
  },
  "kernelspec": {
   "display_name": "Python 3 (ipykernel)",
   "language": "python",
   "name": "python3"
  },
  "language_info": {
   "codemirror_mode": {
    "name": "ipython",
    "version": 3
   },
   "file_extension": ".py",
   "mimetype": "text/x-python",
   "name": "python",
   "nbconvert_exporter": "python",
   "pygments_lexer": "ipython3",
   "version": "3.8.10"
  }
 },
 "nbformat": 4,
 "nbformat_minor": 2
}
